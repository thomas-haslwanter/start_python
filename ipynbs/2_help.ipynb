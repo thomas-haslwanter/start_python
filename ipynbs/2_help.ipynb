{
 "cells": [
  {
   "cell_type": "markdown",
   "metadata": {},
   "source": [
    "# Help!"
   ]
  },
  {
   "cell_type": "markdown",
   "metadata": {},
   "source": [
    "## Help Information"
   ]
  },
  {
   "cell_type": "markdown",
   "metadata": {},
   "source": [
    "Everything in Python is an Object!\n",
    "\n",
    "To get help in Python on the object *x*, you have a number of options\n",
    "\n",
    "- In *IPython* you can use \"x?\" to get the corresponding documentation\n",
    "- \"x??\" in *IPython* gives you the code corresponding to x\n",
    "- Once you are in the help, use \"[ESC]\" to exit back to the command line\n",
    "- \"dir(x)\" lists all the *methods* and *properties* of \"x\"\n",
    "- \"type(x)\" is often helpful to find out what you are dealing with.\n",
    "- You can also get the availabel properties & methods by typing \"x.[TAB]\"\n",
    "- When you are looking for a commmand, best use Google:\n",
    "    - The official documentation is good\n",
    "    - \"stackoverflow\" is also very reliable."
   ]
  },
  {
   "cell_type": "code",
   "execution_count": 1,
   "metadata": {},
   "outputs": [],
   "source": [
    "# Import the standard packages\n",
    "import numpy as np\n",
    "import matplotlib.pyplot as plt"
   ]
  },
  {
   "cell_type": "markdown",
   "metadata": {},
   "source": [
    "## Properties\n",
    "The properties (=values) and methods (=functions) of an element tell you what you can do with it. Try it out!\n",
    "\n",
    "For example, a text-string has the property *upper*. Add a new cell below the definitions in the next cell, and try out the command *txt.upper()* ."
   ]
  },
  {
   "cell_type": "code",
   "execution_count": 2,
   "metadata": {
    "collapsed": false,
    "jupyter": {
     "outputs_hidden": false
    }
   },
   "outputs": [
    {
     "name": "stdout",
     "output_type": "stream",
     "text": [
      "The variable \"txt\" has the following properties:\n",
      "['__add__', '__class__', '__contains__', '__delattr__', '__dir__', '__doc__', '__eq__', '__format__', '__ge__', '__getattribute__', '__getitem__', '__getnewargs__', '__gt__', '__hash__', '__init__', '__init_subclass__', '__iter__', '__le__', '__len__', '__lt__', '__mod__', '__mul__', '__ne__', '__new__', '__reduce__', '__reduce_ex__', '__repr__', '__rmod__', '__rmul__', '__setattr__', '__sizeof__', '__str__', '__subclasshook__', 'capitalize', 'casefold', 'center', 'count', 'encode', 'endswith', 'expandtabs', 'find', 'format', 'format_map', 'index', 'isalnum', 'isalpha', 'isascii', 'isdecimal', 'isdigit', 'isidentifier', 'islower', 'isnumeric', 'isprintable', 'isspace', 'istitle', 'isupper', 'join', 'ljust', 'lower', 'lstrip', 'maketrans', 'partition', 'removeprefix', 'removesuffix', 'replace', 'rfind', 'rindex', 'rjust', 'rpartition', 'rsplit', 'rstrip', 'split', 'splitlines', 'startswith', 'strip', 'swapcase', 'title', 'translate', 'upper', 'zfill']\n",
      "\n",
      "A number has the following properties:\n",
      "['__abs__', '__add__', '__and__', '__bool__', '__ceil__', '__class__', '__delattr__', '__dir__', '__divmod__', '__doc__', '__eq__', '__float__', '__floor__', '__floordiv__', '__format__', '__ge__', '__getattribute__', '__getnewargs__', '__gt__', '__hash__', '__index__', '__init__', '__init_subclass__', '__int__', '__invert__', '__le__', '__lshift__', '__lt__', '__mod__', '__mul__', '__ne__', '__neg__', '__new__', '__or__', '__pos__', '__pow__', '__radd__', '__rand__', '__rdivmod__', '__reduce__', '__reduce_ex__', '__repr__', '__rfloordiv__', '__rlshift__', '__rmod__', '__rmul__', '__ror__', '__round__', '__rpow__', '__rrshift__', '__rshift__', '__rsub__', '__rtruediv__', '__rxor__', '__setattr__', '__sizeof__', '__str__', '__sub__', '__subclasshook__', '__truediv__', '__trunc__', '__xor__', 'as_integer_ratio', 'bit_length', 'conjugate', 'denominator', 'from_bytes', 'imag', 'numerator', 'real', 'to_bytes']\n",
      "\n",
      "An array has the following properties:\n",
      "['T', '__abs__', '__add__', '__and__', '__array__', '__array_finalize__', '__array_function__', '__array_interface__', '__array_prepare__', '__array_priority__', '__array_struct__', '__array_ufunc__', '__array_wrap__', '__bool__', '__class__', '__complex__', '__contains__', '__copy__', '__deepcopy__', '__delattr__', '__delitem__', '__dir__', '__divmod__', '__doc__', '__eq__', '__float__', '__floordiv__', '__format__', '__ge__', '__getattribute__', '__getitem__', '__gt__', '__hash__', '__iadd__', '__iand__', '__ifloordiv__', '__ilshift__', '__imatmul__', '__imod__', '__imul__', '__index__', '__init__', '__init_subclass__', '__int__', '__invert__', '__ior__', '__ipow__', '__irshift__', '__isub__', '__iter__', '__itruediv__', '__ixor__', '__le__', '__len__', '__lshift__', '__lt__', '__matmul__', '__mod__', '__mul__', '__ne__', '__neg__', '__new__', '__or__', '__pos__', '__pow__', '__radd__', '__rand__', '__rdivmod__', '__reduce__', '__reduce_ex__', '__repr__', '__rfloordiv__', '__rlshift__', '__rmatmul__', '__rmod__', '__rmul__', '__ror__', '__rpow__', '__rrshift__', '__rshift__', '__rsub__', '__rtruediv__', '__rxor__', '__setattr__', '__setitem__', '__setstate__', '__sizeof__', '__str__', '__sub__', '__subclasshook__', '__truediv__', '__xor__', 'all', 'any', 'argmax', 'argmin', 'argpartition', 'argsort', 'astype', 'base', 'byteswap', 'choose', 'clip', 'compress', 'conj', 'conjugate', 'copy', 'ctypes', 'cumprod', 'cumsum', 'data', 'diagonal', 'dot', 'dtype', 'dump', 'dumps', 'fill', 'flags', 'flat', 'flatten', 'getfield', 'imag', 'item', 'itemset', 'itemsize', 'max', 'mean', 'min', 'nbytes', 'ndim', 'newbyteorder', 'nonzero', 'partition', 'prod', 'ptp', 'put', 'ravel', 'real', 'repeat', 'reshape', 'resize', 'round', 'searchsorted', 'setfield', 'setflags', 'shape', 'size', 'sort', 'squeeze', 'std', 'strides', 'sum', 'swapaxes', 'take', 'tobytes', 'tofile', 'tolist', 'tostring', 'trace', 'transpose', 'var', 'view']\n"
     ]
    }
   ],
   "source": [
    "# Text\n",
    "txt = 'A text'\n",
    "print('The variable \"txt\" has the following properties:')\n",
    "print(dir(txt))\n",
    "\n",
    "# Scalar\n",
    "number = 5\n",
    "print('\\nA number has the following properties:')\n",
    "print(dir(number))\n",
    "\n",
    "# Vector\n",
    "anArray = np.arange(5)\n",
    "print('\\nAn array has the following properties:')\n",
    "print(dir(anArray))\n"
   ]
  },
  {
   "cell_type": "markdown",
   "metadata": {},
   "source": [
    "## IPython magic"
   ]
  },
  {
   "cell_type": "markdown",
   "metadata": {},
   "source": [
    "Ipython has a number of \"magic\" commands, that are intended to make interactive computing easier, and that DO NOT EXIST IN CORE-PYTHON! Some of those commands are\n",
    "\n",
    "- %cd\n",
    "- %who\n",
    "- %whos\n",
    "- %bookmark\n",
    "- %pwd\n",
    "\n",
    "If there exists no variable with that name, you can leave the \"%\" away.\n",
    "\n",
    "Try to execute the following steps:\n",
    "- list the help for %bookmark (If you don't know how: re-read the first cell!)\n",
    "- set a bookmark\n",
    "- change to a different directory\n",
    "- use '%bookmark' to get back to the original location"
   ]
  },
  {
   "cell_type": "code",
   "execution_count": 3,
   "metadata": {
    "collapsed": false,
    "jupyter": {
     "outputs_hidden": false
    }
   },
   "outputs": [
    {
     "name": "stdout",
     "output_type": "stream",
     "text": [
      "Variable   Type       Data/Info\n",
      "-------------------------------\n",
      "anArray    ndarray    5: 5 elems, type `int32`, 20 bytes\n",
      "number     int        5\n",
      "txt        str        A text\n"
     ]
    }
   ],
   "source": [
    "# For example, '%whos' shows the exisiting variables\n",
    "%whos"
   ]
  },
  {
   "cell_type": "markdown",
   "metadata": {},
   "source": [
    "Ipython also has \"alias\", which makes tasks like listing the current directory simple"
   ]
  },
  {
   "cell_type": "code",
   "execution_count": 4,
   "metadata": {
    "collapsed": false,
    "jupyter": {
     "outputs_hidden": false
    }
   },
   "outputs": [
    {
     "name": "stdout",
     "output_type": "stream",
     "text": [
      " Volume in drive C is Caesar\n",
      " Volume Serial Number is 2E16-9188\n",
      "\n",
      " Directory of C:\\Users\\thomas\\CloudStation\\Teaching\\SCP\\ipynb\n",
      "\n",
      "11-Sep-22  12:41 PM    <DIR>          .\n",
      "08-Nov-21  12:50 PM    <DIR>          ..\n",
      "11-Sep-22  12:42 PM    <DIR>          .ipynb_checkpoints\n",
      "11-Sep-22  12:39 PM    <DIR>          .mypy_cache\n",
      "11-Sep-22  12:42 PM    <DIR>          .virtual_documents\n",
      "11-Sep-22  12:41 PM            48,251 0_getting_started.ipynb\n",
      "20-Sep-21  01:32 PM            74,900 1_first_steps.ipynb\n",
      "16-Sep-21  10:34 AM             9,436 2_help.ipynb\n",
      "20-Sep-21  10:06 AM            10,486 3_vectors_and_matrices.ipynb\n",
      "20-Sep-21  10:32 AM            35,301 4_RunningPrograms.ipynb\n",
      "20-Sep-21  10:31 AM               112 aModule.py\n",
      "03-Aug-20  04:53 PM    <DIR>          ipynb_ImProc\n",
      "29-Jun-19  03:05 PM               213 plt_demo.py\n",
      "11-Sep-22  12:41 PM             5,136 test.txt\n",
      "               8 File(s)        183,835 bytes\n",
      "               6 Dir(s)  378,370,580,480 bytes free\n"
     ]
    }
   ],
   "source": [
    "ls"
   ]
  }
 ],
 "metadata": {
  "kernelspec": {
   "display_name": "Python 3 (ipykernel)",
   "language": "python",
   "name": "python3"
  },
  "language_info": {
   "codemirror_mode": {
    "name": "ipython",
    "version": 3
   },
   "file_extension": ".py",
   "mimetype": "text/x-python",
   "name": "python",
   "nbconvert_exporter": "python",
   "pygments_lexer": "ipython3",
   "version": "3.12.4"
  }
 },
 "nbformat": 4,
 "nbformat_minor": 4
}
