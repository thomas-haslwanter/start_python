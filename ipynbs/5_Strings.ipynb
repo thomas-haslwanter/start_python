{
 "cells": [
  {
   "cell_type": "markdown",
   "id": "cdeebb0c-2b9b-4ebf-af32-3a57acec3c9d",
   "metadata": {},
   "source": [
    "# Strings in Python"
   ]
  },
  {
   "cell_type": "markdown",
   "id": "2e94664e-f72b-4d40-adac-2343cfd298ec",
   "metadata": {},
   "source": [
    "Strings are a bit tricky, and you have to be careful with the following points\n",
    "\n",
    "## Strings and Methods"
   ]
  },
  {
   "cell_type": "code",
   "execution_count": 1,
   "id": "eebea372-b7da-4280-8dbf-7fd9d73605db",
   "metadata": {},
   "outputs": [],
   "source": [
    "txt = 'hello, world'"
   ]
  },
  {
   "cell_type": "markdown",
   "id": "5fbff642-189d-42fd-b91d-d739e1273578",
   "metadata": {},
   "source": [
    "is a standard text string. Parts of the string can be accessed with the common *slicing* syntax"
   ]
  },
  {
   "cell_type": "code",
   "execution_count": 3,
   "id": "a1a472a5-1be0-4855-a0c4-c5b9b800c64b",
   "metadata": {},
   "outputs": [
    {
     "data": {
      "text/plain": [
       "'hello'"
      ]
     },
     "execution_count": 3,
     "metadata": {},
     "output_type": "execute_result"
    }
   ],
   "source": [
    "txt[:5]"
   ]
  },
  {
   "cell_type": "markdown",
   "id": "2ada98ee-9ec4-4ca4-b77e-41965679ce3e",
   "metadata": {},
   "source": [
    "Text strings are also Python objects, and as such have a number of *methods* available. Examples are"
   ]
  },
  {
   "cell_type": "code",
   "execution_count": 4,
   "id": "6f8d3112-0db2-417a-bd8c-547d67abb7f2",
   "metadata": {},
   "outputs": [
    {
     "data": {
      "text/plain": [
       "True"
      ]
     },
     "execution_count": 4,
     "metadata": {},
     "output_type": "execute_result"
    }
   ],
   "source": [
    "txt.startswith('hello')"
   ]
  },
  {
   "cell_type": "code",
   "execution_count": 5,
   "id": "ac6021a4-eb47-494e-b091-b0fc73bfd88e",
   "metadata": {},
   "outputs": [
    {
     "data": {
      "text/plain": [
       "'HELLO, WORLD'"
      ]
     },
     "execution_count": 5,
     "metadata": {},
     "output_type": "execute_result"
    }
   ],
   "source": [
    "txt.upper()"
   ]
  },
  {
   "cell_type": "code",
   "execution_count": 6,
   "id": "56d8e2ba-a118-4631-bf5a-8d31f58cb9c1",
   "metadata": {},
   "outputs": [
    {
     "data": {
      "text/plain": [
       "True"
      ]
     },
     "execution_count": 6,
     "metadata": {},
     "output_type": "execute_result"
    }
   ],
   "source": [
    "txt.endswith('world')"
   ]
  },
  {
   "cell_type": "code",
   "execution_count": 7,
   "id": "b32eb7cc-f196-4b1b-b3a2-b344fe656e07",
   "metadata": {},
   "outputs": [
    {
     "data": {
      "text/plain": [
       "False"
      ]
     },
     "execution_count": 7,
     "metadata": {},
     "output_type": "execute_result"
    }
   ],
   "source": [
    "txt.endswith('World')"
   ]
  },
  {
   "cell_type": "code",
   "execution_count": 9,
   "id": "375bd5dc-68d0-4b34-b58e-16668b3daa31",
   "metadata": {},
   "outputs": [
    {
     "data": {
      "text/plain": [
       "'hello, thomas'"
      ]
     },
     "execution_count": 9,
     "metadata": {},
     "output_type": "execute_result"
    }
   ],
   "source": [
    "txt.replace('world', 'thomas')"
   ]
  },
  {
   "cell_type": "markdown",
   "id": "fe6fb0cc-0d45-41f3-a72d-bb5df0554327",
   "metadata": {},
   "source": [
    "## Formatted strings\n",
    "One of the features I just love about Python are *formatted strings*. They work by simply putting an `f` before your string, and allow you to include existing variables into your string. For example:"
   ]
  },
  {
   "cell_type": "code",
   "execution_count": 1,
   "id": "58d0c557-e5e6-4a53-827c-be094f9bf22a",
   "metadata": {},
   "outputs": [
    {
     "data": {
      "text/plain": [
       "'The value of pi is 3.141592653589793'"
      ]
     },
     "execution_count": 1,
     "metadata": {},
     "output_type": "execute_result"
    }
   ],
   "source": [
    "import numpy as np\n",
    "var_name = 'pi'\n",
    "value = np.pi\n",
    "info_text = f'The value of {var_name} is {value}'\n",
    "info_text"
   ]
  },
  {
   "cell_type": "markdown",
   "id": "44228e64-dd3d-4780-8102-6389b027e528",
   "metadata": {},
   "source": [
    "And even better: you can include formatting commands into the string:"
   ]
  },
  {
   "cell_type": "code",
   "execution_count": 4,
   "id": "8bd90546-445f-4430-b80b-a72cc8249b84",
   "metadata": {},
   "outputs": [
    {
     "data": {
      "text/plain": [
       "'The value of pi         is  3.14'"
      ]
     },
     "execution_count": 4,
     "metadata": {},
     "output_type": "execute_result"
    }
   ],
   "source": [
    "info_text = f'The value of {var_name:10s} is {value:5.2f}'\n",
    "info_text"
   ]
  },
  {
   "cell_type": "markdown",
   "id": "1c93dd78-6b46-4bd8-ae58-0e780390cc7c",
   "metadata": {},
   "source": [
    "## Pathnames\n",
    "Pathnames are tricky, because *Windows* and *Unix* use different path-separators.\n",
    "\n",
    "    * Windows: 'C:\\Users\\gebhard'\n",
    "    * Unix: '~/users/gebhard'\n",
    " And the problem is more tricky by the fact that slash-backs in strings indicate special characters. For example '\\t' indicates a tab!\n",
    "\n",
    "What can be done?\n",
    "\n",
    "### Raw strings\n",
    "A \"r\" at the beginning of a string indicates a *raw* string. This means that \"\\\" is interpreted literally. Otherwise, you have to \"escape\" the \"\\\" with another \"\\\""
   ]
  },
  {
   "cell_type": "code",
   "execution_count": 77,
   "id": "c9383d2f-853e-40ff-9016-f41054475ec4",
   "metadata": {},
   "outputs": [
    {
     "data": {
      "text/plain": [
       "'C:\\\\Users\\\\gebhard'"
      ]
     },
     "execution_count": 77,
     "metadata": {},
     "output_type": "execute_result"
    }
   ],
   "source": [
    "r'C:\\Users\\gebhard'"
   ]
  },
  {
   "cell_type": "code",
   "execution_count": 78,
   "id": "c508fdbe-5ec6-464a-ab3a-bfe08de074b1",
   "metadata": {},
   "outputs": [
    {
     "data": {
      "text/plain": [
       "'C:\\\\Users\\\\gebhard'"
      ]
     },
     "execution_count": 78,
     "metadata": {},
     "output_type": "execute_result"
    }
   ],
   "source": [
    "'C:\\\\Users\\\\gebhard'"
   ]
  },
  {
   "cell_type": "code",
   "execution_count": 79,
   "id": "4583aa83-1b3d-4ab0-9b83-18b89a9cc694",
   "metadata": {},
   "outputs": [
    {
     "name": "stdout",
     "output_type": "stream",
     "text": [
      "C:\\Users\\gebhard\n"
     ]
    }
   ],
   "source": [
    "print('C:\\\\Users\\\\gebhard')"
   ]
  },
  {
   "cell_type": "markdown",
   "id": "df78be43-c7bc-4c8f-b091-f9abfac6ab1c",
   "metadata": {},
   "source": [
    "But the simplest way is to simply use the Unix-format. In my exprience, this is also handled nicely under Windows:"
   ]
  },
  {
   "cell_type": "code",
   "execution_count": 80,
   "id": "c6b9c9e9-8b09-403b-b170-13494db9d39e",
   "metadata": {},
   "outputs": [
    {
     "data": {
      "text/plain": [
       "'C:/Users/gebhard'"
      ]
     },
     "execution_count": 80,
     "metadata": {},
     "output_type": "execute_result"
    }
   ],
   "source": [
    "'C:/Users/gebhard'"
   ]
  },
  {
   "cell_type": "markdown",
   "id": "3256be0b-a788-48aa-b5f4-84ce8ff6a9d4",
   "metadata": {},
   "source": [
    "### For Pythonistas: pathlib\n",
    "OK, path names can be handled as text-strings. In that case you need to use the package `os` for working with files and folders:"
   ]
  },
  {
   "cell_type": "code",
   "execution_count": 82,
   "id": "ef0fedf4-5f3e-4567-b384-c28779894943",
   "metadata": {},
   "outputs": [
    {
     "data": {
      "text/plain": [
       "'.'"
      ]
     },
     "execution_count": 82,
     "metadata": {},
     "output_type": "execute_result"
    }
   ],
   "source": [
    "import os\n",
    "os.curdir"
   ]
  },
  {
   "cell_type": "code",
   "execution_count": 85,
   "id": "c0de09bd-bb1c-4618-9d25-1d59ab997c8d",
   "metadata": {},
   "outputs": [
    {
     "data": {
      "text/plain": [
       "'C:\\\\Users\\\\thomas'"
      ]
     },
     "execution_count": 85,
     "metadata": {},
     "output_type": "execute_result"
    }
   ],
   "source": [
    "starting_dir = os.path.abspath(os.curdir)\n",
    "starting_dir"
   ]
  },
  {
   "cell_type": "code",
   "execution_count": 86,
   "id": "16535b16-ad94-4bc0-b257-264986fa7c34",
   "metadata": {},
   "outputs": [
    {
     "data": {
      "text/plain": [
       "'data\\\\test.txt'"
      ]
     },
     "execution_count": 86,
     "metadata": {},
     "output_type": "execute_result"
    }
   ],
   "source": [
    "dir_name = 'data'\n",
    "file_name = 'test.txt'\n",
    "os.path.join(dir_name, file_name)"
   ]
  },
  {
   "cell_type": "code",
   "execution_count": 88,
   "id": "37acd90a-94e5-4a5d-82eb-1aa3c01aeaf1",
   "metadata": {},
   "outputs": [
    {
     "data": {
      "text/plain": [
       "'C:\\\\Users'"
      ]
     },
     "execution_count": 88,
     "metadata": {},
     "output_type": "execute_result"
    }
   ],
   "source": [
    "os.path.abspath('..') # one level up"
   ]
  },
  {
   "cell_type": "markdown",
   "id": "767e1166-d242-44c7-b9e7-b3eb4ef4d560",
   "metadata": {},
   "source": [
    "But the more elegant way is to use the package `pathlib`"
   ]
  },
  {
   "cell_type": "code",
   "execution_count": 89,
   "id": "5bd3123a-e0fa-440c-b755-926b3d8162d5",
   "metadata": {},
   "outputs": [
    {
     "data": {
      "text/plain": [
       "WindowsPath('C:/Users/thomas')"
      ]
     },
     "execution_count": 89,
     "metadata": {},
     "output_type": "execute_result"
    }
   ],
   "source": [
    "from pathlib import Path\n",
    "Path.home()"
   ]
  },
  {
   "cell_type": "code",
   "execution_count": 94,
   "id": "89a2c167-6df8-449b-96df-dda1a62ac049",
   "metadata": {},
   "outputs": [
    {
     "data": {
      "text/plain": [
       "WindowsPath('.')"
      ]
     },
     "execution_count": 94,
     "metadata": {},
     "output_type": "execute_result"
    }
   ],
   "source": [
    "home = Path()  # current directory\n",
    "home"
   ]
  },
  {
   "cell_type": "markdown",
   "id": "4141d35b-4549-49fd-b7c1-bcc439928a50",
   "metadata": {},
   "source": [
    "Here a few examples of how to use such `Path` objects:"
   ]
  },
  {
   "cell_type": "code",
   "execution_count": 95,
   "id": "11b289b3-1a7c-487e-9cc1-aecad5576797",
   "metadata": {},
   "outputs": [
    {
     "data": {
      "text/plain": [
       "WindowsPath('C:/Users/thomas')"
      ]
     },
     "execution_count": 95,
     "metadata": {},
     "output_type": "execute_result"
    }
   ],
   "source": [
    "home_absolute = home.absolute()\n",
    "home_absolute"
   ]
  },
  {
   "cell_type": "code",
   "execution_count": 102,
   "id": "18e514b0-eca0-4620-bb45-d337594431a3",
   "metadata": {},
   "outputs": [
    {
     "data": {
      "text/plain": [
       "True"
      ]
     },
     "execution_count": 102,
     "metadata": {},
     "output_type": "execute_result"
    }
   ],
   "source": [
    "home.is_dir()"
   ]
  },
  {
   "cell_type": "code",
   "execution_count": 104,
   "id": "7ad2c275-1e3f-463d-8885-583edcfd2399",
   "metadata": {},
   "outputs": [
    {
     "data": {
      "text/plain": [
       "WindowsPath('data/test.py')"
      ]
     },
     "execution_count": 104,
     "metadata": {},
     "output_type": "execute_result"
    }
   ],
   "source": [
    "data_dir = Path('data')\n",
    "new_file = data_dir/'test.py'  # joining a directory and a file\n",
    "new_file"
   ]
  },
  {
   "cell_type": "code",
   "execution_count": 105,
   "id": "5c690e0d-d0d7-4197-9eb6-e3de973e07b0",
   "metadata": {},
   "outputs": [
    {
     "data": {
      "text/plain": [
       "'test'"
      ]
     },
     "execution_count": 105,
     "metadata": {},
     "output_type": "execute_result"
    }
   ],
   "source": [
    "new_file.stem"
   ]
  },
  {
   "cell_type": "code",
   "execution_count": 106,
   "id": "cc15738b-97a3-4226-81dc-6192e31b8f7f",
   "metadata": {},
   "outputs": [
    {
     "data": {
      "text/plain": [
       "'.py'"
      ]
     },
     "execution_count": 106,
     "metadata": {},
     "output_type": "execute_result"
    }
   ],
   "source": [
    "new_file.suffix"
   ]
  },
  {
   "cell_type": "code",
   "execution_count": 107,
   "id": "af78c352-5301-42dd-a545-5f3dd8c2e4dc",
   "metadata": {},
   "outputs": [
    {
     "data": {
      "text/plain": [
       "WindowsPath('data')"
      ]
     },
     "execution_count": 107,
     "metadata": {},
     "output_type": "execute_result"
    }
   ],
   "source": [
    "new_file.parent"
   ]
  },
  {
   "cell_type": "code",
   "execution_count": 108,
   "id": "1fec279f-86ad-4a68-bdb1-4953c6af4403",
   "metadata": {},
   "outputs": [
    {
     "data": {
      "text/plain": [
       "False"
      ]
     },
     "execution_count": 108,
     "metadata": {},
     "output_type": "execute_result"
    }
   ],
   "source": [
    "new_file.exists()"
   ]
  },
  {
   "cell_type": "markdown",
   "id": "d3ebe598-6bac-4699-a951-2aea31eba688",
   "metadata": {},
   "source": [
    "**Warning**: changing directory has to be done with `os.chdir`:"
   ]
  },
  {
   "cell_type": "code",
   "execution_count": 111,
   "id": "e0987640-d1d0-410f-9549-a701496169f7",
   "metadata": {},
   "outputs": [
    {
     "data": {
      "text/plain": [
       "WindowsPath('C:/Users/thomas/Coding')"
      ]
     },
     "execution_count": 111,
     "metadata": {},
     "output_type": "execute_result"
    }
   ],
   "source": [
    "os.chdir('C:/Users/thomas/Coding')\n",
    "Path().absolute()"
   ]
  },
  {
   "cell_type": "code",
   "execution_count": 112,
   "id": "6e5f1674-e700-49e7-ac05-11c709526534",
   "metadata": {},
   "outputs": [
    {
     "data": {
      "text/plain": [
       "WindowsPath('C:/Users/thomas')"
      ]
     },
     "execution_count": 112,
     "metadata": {},
     "output_type": "execute_result"
    }
   ],
   "source": [
    "# or:\n",
    "os.chdir(starting_dir)\n",
    "Path().absolute()"
   ]
  },
  {
   "cell_type": "markdown",
   "id": "114c8387-a0b0-492a-b146-0f1bc1e3e7cc",
   "metadata": {},
   "source": [
    "## TeX-strings in plots"
   ]
  },
  {
   "cell_type": "markdown",
   "id": "1145703e-daed-49f6-9f89-740af666b0ec",
   "metadata": {},
   "source": [
    "Sometimes we want to use fancy strings in plots, such as sub-script and superscript. This can be achieved with the TeX-syntax"
   ]
  },
  {
   "cell_type": "code",
   "execution_count": 126,
   "id": "39b8d868-8c14-431f-a067-a5fba7cab725",
   "metadata": {},
   "outputs": [
    {
     "data": {
      "text/plain": [
       "Text(0, 0.5, '... or with $\\\\bf{bold}$ text')"
      ]
     },
     "execution_count": 126,
     "metadata": {},
     "output_type": "execute_result"
    },
    {
     "data": {
      "image/png": "[encoded data removed]",
      "text/plain": [
       "<Figure size 640x480 with 1 Axes>"
      ]
     },
     "metadata": {},
     "output_type": "display_data"
    }
   ],
   "source": [
    "plt.plot(np.arange(5))\n",
    "plt.text(1, 2, 'simple string')\n",
    "plt.text(2, 1, 'Fancy: $E = m*c^2$')                   # TeX is indicated with $...$ in the string\n",
    "plt.text(2, 0.5, r'... or: $\\int_a^b x^2 dx$')\n",
    "plt.xlabel('A label with $\\\\it{italic}$ text')  # note the \\\\\n",
    "plt.ylabel(r'... or with $\\bf{bold}$ text')    # note the raw-string!"
   ]
  },
  {
   "cell_type": "code",
   "execution_count": null,
   "id": "e92bed96-346e-4992-9d5e-a45da42ce5d1",
   "metadata": {},
   "outputs": [],
   "source": []
  }
 ],
 "metadata": {
  "kernelspec": {
   "display_name": "Python 3 (ipykernel)",
   "language": "python",
   "name": "python3"
  },
  "language_info": {
   "codemirror_mode": {
    "name": "ipython",
    "version": 3
   },
   "file_extension": ".py",
   "mimetype": "text/x-python",
   "name": "python",
   "nbconvert_exporter": "python",
   "pygments_lexer": "ipython3",
   "version": "3.12.4"
  }
 },
 "nbformat": 4,
 "nbformat_minor": 5
}
